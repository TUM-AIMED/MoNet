{
 "cells": [
  {
   "cell_type": "code",
   "execution_count": 1,
   "metadata": {},
   "outputs": [],
   "source": [
    "%load_ext autoreload\n",
    "%autoreload 2"
   ]
  },
  {
   "cell_type": "code",
   "execution_count": 2,
   "metadata": {},
   "outputs": [
    {
     "name": "stdout",
     "output_type": "stream",
     "text": [
      "True\n",
      "Segmentation Models: using `tf.keras` framework.\n"
     ]
    }
   ],
   "source": [
    "#import tensorflow.compat.v1 as tf\n",
    "import tensorflow as tf\n",
    "#import tensorflow_probability as tfp\n",
    "import os\n",
    "print(tf.executing_eagerly())\n",
    " \n",
    "#gpus = tf.config.experimental.list_physical_devices('GPU')\n",
    "#tf.config.experimental.set_memory_growth(gpus[0], True)\n",
    "#tf.compat.v1.disable_eager_execution()\n",
    "os.environ['TF_CPP_MIN_LOG_LEVEL'] = '3'\n",
    "\n",
    "from preprocessing.data_loader import prepare_data\n",
    "import joblib\n",
    "import numpy as np\n",
    "import matplotlib.pyplot as plt\n",
    "import segmentation_models as sm\n",
    "\n",
    "import torch "
   ]
  },
  {
   "cell_type": "code",
   "execution_count": 3,
   "metadata": {},
   "outputs": [
    {
     "name": "stdout",
     "output_type": "stream",
     "text": [
      "... preparing data\n",
      "... importing training data\n",
      "... importing labels \n"
     ]
    },
    {
     "name": "stderr",
     "output_type": "stream",
     "text": [
      "\r",
      "  0%|          | 0/50 [00:00<?, ?it/s]"
     ]
    },
    {
     "name": "stdout",
     "output_type": "stream",
     "text": [
      "... preparing training data and labels(seg)\n"
     ]
    },
    {
     "name": "stderr",
     "output_type": "stream",
     "text": [
      "100%|██████████| 50/50 [17:32<00:00, 21.06s/it]\n"
     ]
    },
    {
     "name": "stdout",
     "output_type": "stream",
     "text": [
      "... total amount of training data: 50\n",
      "... total amount of labels: 50\n",
      "\n",
      "train set: 35 scans and 35 label volumes\n",
      "test set: 15 scans and 15 label volumes\n",
      "train set was split into partial train set: 31 scans and 31 label volumes\n",
      "validation set: 4 scans and 4 label volumes\n",
      "... converting data to 2D slices\n",
      "... finished preparing data\n"
     ]
    }
   ],
   "source": [
    "PATH = \"/Volumes/NWR/TUM-EI Studium/Master/DEA/03_semester/GR-PriMIA/Task03_Liver\"\n",
    "RES = 256\n",
    "RES_Z = 64\n",
    "CROP_HEIGHT = 16\n",
    "\n",
    "X_train_partial, y_train_partial, X_val, y_val, X_test, y_test = prepare_data(PATH,\n",
    "                                                                                res=RES,\n",
    "                                                                                res_z=RES_Z,\n",
    "                                                                                crop_height=CROP_HEIGHT,\n",
    "                                                                                num_samples=50)\n"
   ]
  },
  {
   "cell_type": "code",
   "execution_count": 10,
   "metadata": {},
   "outputs": [],
   "source": [
    "## TORCH - save as a pre-caution ## \n",
    "np.save(\"/Volumes/NWR/TUM-EI Studium/Master/DEA/03_semester/GR-PriMIA/X_train_partial.npy\", X_train_partial)\n",
    "np.save(\"/Volumes/NWR/TUM-EI Studium/Master/DEA/03_semester/GR-PriMIA/y_train_partial.npy\", y_train_partial)\n",
    "np.save(\"/Volumes/NWR/TUM-EI Studium/Master/DEA/03_semester/GR-PriMIA/X_val.npy\", X_val)\n",
    "np.save(\"/Volumes/NWR/TUM-EI Studium/Master/DEA/03_semester/GR-PriMIA/y_val.npy\", y_val)\n",
    "np.save(\"/Volumes/NWR/TUM-EI Studium/Master/DEA/03_semester/GR-PriMIA/X_test.npy\", X_test)\n",
    "np.save(\"/Volumes/NWR/TUM-EI Studium/Master/DEA/03_semester/GR-PriMIA/y_test.npy\", y_test)"
   ]
  },
  {
   "cell_type": "code",
   "execution_count": 3,
   "metadata": {},
   "outputs": [],
   "source": [
    "# Load in (already first split )\n",
    "X_train_partial = np.load(\"/Volumes/NWR/TUM-EI Studium/Master/DEA/03_semester/GR-PriMIA/X_train_partial.npy\")\n",
    "y_train_partial = np.load(\"/Volumes/NWR/TUM-EI Studium/Master/DEA/03_semester/GR-PriMIA/y_train_partial.npy\")\n",
    "X_val = np.load(\"/Volumes/NWR/TUM-EI Studium/Master/DEA/03_semester/GR-PriMIA/X_val.npy\")\n",
    "y_val = np.load(\"/Volumes/NWR/TUM-EI Studium/Master/DEA/03_semester/GR-PriMIA/y_val.npy\")\n",
    "X_test = np.load(\"/Volumes/NWR/TUM-EI Studium/Master/DEA/03_semester/GR-PriMIA/X_test.npy\")\n",
    "y_test = np.load(\"/Volumes/NWR/TUM-EI Studium/Master/DEA/03_semester/GR-PriMIA/y_test.npy\")"
   ]
  },
  {
   "cell_type": "code",
   "execution_count": 4,
   "metadata": {},
   "outputs": [
    {
     "data": {
      "text/plain": [
       "(1984, 256, 256)"
      ]
     },
     "execution_count": 4,
     "metadata": {},
     "output_type": "execute_result"
    }
   ],
   "source": [
    "X_train_partial.shape"
   ]
  },
  {
   "cell_type": "code",
   "execution_count": 35,
   "metadata": {},
   "outputs": [
    {
     "data": {
      "text/plain": [
       "array([[0., 0., 0., 0.],\n",
       "       [0., 0., 0., 0.],\n",
       "       [0., 0., 0., 0.],\n",
       "       [0., 0., 0., 0.]], dtype=float32)"
      ]
     },
     "execution_count": 35,
     "metadata": {},
     "output_type": "execute_result"
    }
   ],
   "source": [
    "X_train_partial[100, :4, :4]"
   ]
  },
  {
   "cell_type": "code",
   "execution_count": 39,
   "metadata": {},
   "outputs": [
    {
     "data": {
      "text/plain": [
       "0.9972087260215513"
      ]
     },
     "execution_count": 39,
     "metadata": {},
     "output_type": "execute_result"
    }
   ],
   "source": [
    "# percentage of non-zero labels\n",
    "(X_train_partial!=1).sum()/(X_train_partial.shape[0] * X_train_partial.shape[1] * X_train_partial.shape[2])"
   ]
  },
  {
   "cell_type": "code",
   "execution_count": 34,
   "metadata": {},
   "outputs": [
    {
     "data": {
      "text/plain": [
       "array([[0, 0, 0, 0],\n",
       "       [0, 0, 0, 0],\n",
       "       [0, 0, 0, 0],\n",
       "       [0, 0, 0, 0]], dtype=uint8)"
      ]
     },
     "execution_count": 34,
     "metadata": {},
     "output_type": "execute_result"
    }
   ],
   "source": [
    "y_train_partial[100, :4, :4]"
   ]
  },
  {
   "cell_type": "code",
   "execution_count": 14,
   "metadata": {},
   "outputs": [
    {
     "data": {
      "text/plain": [
       "0.09452607554774131"
      ]
     },
     "execution_count": 14,
     "metadata": {},
     "output_type": "execute_result"
    }
   ],
   "source": [
    "# percentage of non-zero pixels (in this case = pixels with value 1)\n",
    "# HUGELY imbalanced!\n",
    "(y_train_partial==1).sum()/(y_train_partial.shape[0] * y_train_partial.shape[1] * y_train_partial.shape[2])"
   ]
  },
  {
   "cell_type": "code",
   "execution_count": 77,
   "metadata": {},
   "outputs": [
    {
     "data": {
      "text/plain": [
       "array([[1, 1, 1, ..., 0, 0, 0],\n",
       "       [1, 1, 1, ..., 0, 0, 0],\n",
       "       [1, 1, 1, ..., 0, 0, 0],\n",
       "       ...,\n",
       "       [0, 0, 0, ..., 0, 0, 0],\n",
       "       [0, 0, 0, ..., 0, 0, 0],\n",
       "       [0, 0, 0, ..., 0, 0, 0]], dtype=uint8)"
      ]
     },
     "execution_count": 77,
     "metadata": {},
     "output_type": "execute_result"
    }
   ],
   "source": [
    "y_train_partial[l, 70:, 70:]"
   ]
  },
  {
   "cell_type": "code",
   "execution_count": 136,
   "metadata": {},
   "outputs": [
    {
     "data": {
      "image/png": "[encoded data removed]",
      "text/plain": [
       "<PIL.Image.Image image mode=L size=256x256 at 0x7FB856F09CC0>"
      ]
     },
     "execution_count": 136,
     "metadata": {},
     "output_type": "execute_result"
    }
   ],
   "source": [
    "# Convert to jpg \n",
    "from PIL import Image\n",
    "im = Image.fromarray(y_train_partial[100]*255)\n",
    "im"
   ]
  },
  {
   "cell_type": "code",
   "execution_count": 137,
   "metadata": {},
   "outputs": [
    {
     "data": {
      "image/png": "[encoded data removed]",
      "text/plain": [
       "<PIL.Image.Image image mode=L size=256x256 at 0x7FB856F09898>"
      ]
     },
     "execution_count": 137,
     "metadata": {},
     "output_type": "execute_result"
    }
   ],
   "source": [
    "formatted = (X_train_partial[100] * 255).astype('uint8')\n",
    "im2 = Image.fromarray(formatted)\n",
    "im2"
   ]
  },
  {
   "cell_type": "code",
   "execution_count": 146,
   "metadata": {},
   "outputs": [
    {
     "name": "stderr",
     "output_type": "stream",
     "text": [
      "100%|██████████| 1984/1984 [00:03<00:00, 587.94it/s]\n"
     ]
    }
   ],
   "source": [
    "# Save \n",
    "import os\n",
    "from tqdm import tqdm\n",
    "\n",
    "X_PATH = \"/Volumes/NWR/TUM-EI Studium/Master/DEA/03_semester/GR-PriMIA/Task03_Liver/imagesTr_jpg/train/\"\n",
    "if not os.path.exists(X_PATH):\n",
    "    os.makedirs(X_PATH)\n",
    "    \n",
    "for i, img_array in tqdm(enumerate(X_train_partial), total=len(X_train_partial)):\n",
    "    formatted = (img_array * 255).astype('uint8')\n",
    "    img = Image.fromarray(formatted)\n",
    "    img.save(X_PATH+f\"x_train_{i}.jpg\")"
   ]
  },
  {
   "cell_type": "code",
   "execution_count": 147,
   "metadata": {},
   "outputs": [],
   "source": [
    "X_PATH = \"/Volumes/NWR/TUM-EI Studium/Master/DEA/03_semester/GR-PriMIA/Task03_Liver/imagesTr_jpg/val/\"\n",
    "if not os.path.exists(X_PATH):\n",
    "    os.makedirs(X_PATH)\n",
    "    \n",
    "for i, img_array in enumerate(X_val):\n",
    "    formatted = (img_array * 255).astype('uint8')\n",
    "    img = Image.fromarray(formatted)\n",
    "    img.save(X_PATH+f\"x_train_{i}.jpg\")"
   ]
  },
  {
   "cell_type": "code",
   "execution_count": 148,
   "metadata": {},
   "outputs": [],
   "source": [
    "X_PATH = \"/Volumes/NWR/TUM-EI Studium/Master/DEA/03_semester/GR-PriMIA/Task03_Liver/imagesTr_jpg/test/\"\n",
    "if not os.path.exists(X_PATH):\n",
    "    os.makedirs(X_PATH)\n",
    "    \n",
    "for i, img_array in enumerate(X_test):\n",
    "    formatted = (img_array * 255).astype('uint8')\n",
    "    img = Image.fromarray(formatted)\n",
    "    img.save(X_PATH+f\"x_train_{i}.jpg\")"
   ]
  },
  {
   "cell_type": "code",
   "execution_count": 149,
   "metadata": {},
   "outputs": [],
   "source": [
    "y_PATH = \"/Volumes/NWR/TUM-EI Studium/Master/DEA/03_semester/GR-PriMIA/Task03_Liver/labelsTr_jpg/train/\"\n",
    "if not os.path.exists(y_PATH):\n",
    "    os.makedirs(y_PATH)\n",
    "    \n",
    "for i, img_array in enumerate(y_train_partial):\n",
    "    formatted = (img_array * 255)\n",
    "    img = Image.fromarray(formatted)\n",
    "    img.save(y_PATH+f\"y_train_{i}.jpg\")"
   ]
  },
  {
   "cell_type": "code",
   "execution_count": 150,
   "metadata": {},
   "outputs": [],
   "source": [
    "y_PATH = \"/Volumes/NWR/TUM-EI Studium/Master/DEA/03_semester/GR-PriMIA/Task03_Liver/labelsTr_jpg/val/\"\n",
    "if not os.path.exists(y_PATH):\n",
    "    os.makedirs(y_PATH)\n",
    "    \n",
    "for i, img_array in enumerate(y_val):\n",
    "    formatted = (img_array * 255)\n",
    "    img = Image.fromarray(formatted)\n",
    "    img.save(y_PATH+f\"y_train_{i}.jpg\")"
   ]
  },
  {
   "cell_type": "code",
   "execution_count": 151,
   "metadata": {},
   "outputs": [],
   "source": [
    "y_PATH = \"/Volumes/NWR/TUM-EI Studium/Master/DEA/03_semester/GR-PriMIA/Task03_Liver/labelsTr_jpg/test/\"\n",
    "if not os.path.exists(y_PATH):\n",
    "    os.makedirs(y_PATH)\n",
    "    \n",
    "for i, img_array in enumerate(y_test):\n",
    "    formatted = (img_array * 255)\n",
    "    img = Image.fromarray(formatted)\n",
    "    img.save(y_PATH+f\"y_train_{i}.jpg\")"
   ]
  },
  {
   "cell_type": "code",
   "execution_count": null,
   "metadata": {},
   "outputs": [],
   "source": []
  }
 ],
 "metadata": {
  "kernelspec": {
   "display_name": "Python 3",
   "language": "python",
   "name": "python3"
  },
  "language_info": {
   "codemirror_mode": {
    "name": "ipython",
    "version": 3
   },
   "file_extension": ".py",
   "mimetype": "text/x-python",
   "name": "python",
   "nbconvert_exporter": "python",
   "pygments_lexer": "ipython3",
   "version": "3.7.1"
  }
 },
 "nbformat": 4,
 "nbformat_minor": 4
}
